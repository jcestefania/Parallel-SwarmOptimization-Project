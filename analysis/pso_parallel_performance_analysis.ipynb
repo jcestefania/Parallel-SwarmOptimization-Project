{
 "cells": [
  {
   "cell_type": "markdown",
   "id": "96550383",
   "metadata": {},
   "source": [
    "# Análisis comparativo de variantes de PSO con ejecución paralela\n",
    "\n",
    "Este notebook tiene como objetivo analizar y comparar los tiempos de ejecución obtenidos por distintas implementaciones del algoritmo de optimización por enjambre de partículas (PSO).\n",
    "\n",
    "A lo largo del notebook se ejecutarán y evaluarán las siguientes versiones del algoritmo:\n",
    "\n",
    "- **Secuencial (Clásica)**: `app.py`\n",
    "- **Multihilo (Threading)**: `app_threading.py`\n",
    "- **Multiproceso (Multiprocessing)**: `app_multiprocessing.py`\n",
    "- **Asíncrona (Asyncio)**: `app_asyncio.py`\n",
    "- **Combinada (Multiproceso + Asyncio)**: `app_multi_async.py`\n",
    "\n",
    "El análisis se centrará en los **tiempos de ejecución** de cada variante, además de definir sus ventajas y limitaciones, con el objetivo de identificar qué enfoque ofrece una mejor eficiencia en diferentes entornos de ejecución.\n"
   ]
  },
  {
   "cell_type": "markdown",
   "id": "20f3c25a",
   "metadata": {},
   "source": [
    "## Versión Secuencial\n",
    "\n",
    "Esta versión ejecuta las optimizaciones de forma secuencial, una tras otra, sin aplicar ningún tipo de paralelismo. Es el punto de partida que utilizamos como referencia para comparar con las versiones paralelas. Se ejecuta el archivo `app.py`, y se mide el tiempo total que tarda en completarse.\n"
   ]
  },
  {
   "cell_type": "code",
   "execution_count": 1,
   "id": "599f3715",
   "metadata": {},
   "outputs": [
    {
     "name": "stdout",
     "output_type": "stream",
     "text": [
      "Ejecutando versión secuencial (app.py)...\n",
      "\n",
      "Tiempo total de ejecución (Secuencial): 438.73 segundos\n"
     ]
    }
   ],
   "source": [
    "import time\n",
    "import subprocess\n",
    "\n",
    "print(\"Ejecutando versión secuencial (app.py)...\")\n",
    "start = time.time()\n",
    "subprocess.run([\"python\", \"app.py\"], cwd=\"../src\")\n",
    "end = time.time()\n",
    "sequential_time = round(end - start, 2)\n",
    "print(f\"\\nTiempo total de ejecución (Secuencial): {sequential_time:.2f} segundos\")\n"
   ]
  },
  {
   "cell_type": "markdown",
   "id": "bd404693",
   "metadata": {},
   "source": [
    "## Versión con hilos (Threading)\n",
    "\n",
    "Esta versión paraleliza la ejecución de las combinaciones de parámetros mediante hilos, utilizando `ThreadPoolExecutor`. Aunque los hilos comparten memoria y tienen bajo coste de creación, están limitados por el Global Interpreter Lock (GIL), lo que puede afectar el rendimiento si las tareas son intensivas en CPU, como ocurre en PSO. En este caso concreto, la versión con hilos ha sido incluso más lenta que la secuencial."
   ]
  },
  {
   "cell_type": "code",
   "execution_count": 2,
   "id": "554f56c0",
   "metadata": {},
   "outputs": [
    {
     "name": "stdout",
     "output_type": "stream",
     "text": [
      "Ejecutando versión con hilos (app_threading.py)...\n",
      "\n",
      "Tiempo total de ejecución (Threads): 539.63 segundos\n"
     ]
    }
   ],
   "source": [
    "print(\"Ejecutando versión con hilos (app_threading.py)...\")\n",
    "start = time.time()\n",
    "subprocess.run([\"python\", \"app_threading.py\"], cwd=\"../src\")\n",
    "end = time.time()\n",
    "threading_time = round(end - start, 2)\n",
    "print(f\"\\nTiempo total de ejecución (Threads): {threading_time} segundos\")"
   ]
  },
  {
   "cell_type": "markdown",
   "id": "87c8c525",
   "metadata": {},
   "source": [
    "## Versión con procesos (Multiprocessing)\n",
    "\n",
    "Esta versión paraleliza las combinaciones de parámetros creando procesos independientes mediante `multiprocessing.Process`. Cada proceso ejecuta la optimización completa para una función diferente, permitiendo una verdadera ejecución en paralelo al evitar el GIL. Este método de paralelización cuando las tareas son intensivas en CPU, como es el caso del PSO. Y por lo tanto hay mucha mejora en los tiempos"
   ]
  },
  {
   "cell_type": "code",
   "execution_count": 3,
   "id": "6bb996fa",
   "metadata": {},
   "outputs": [
    {
     "name": "stdout",
     "output_type": "stream",
     "text": [
      "Ejecutando versión multiprocessing (app_multiprocessing.py)...\n",
      "\n",
      "Tiempo total de ejecución (Multiprocessing): 277.61 segundos\n"
     ]
    }
   ],
   "source": [
    "print(\"Ejecutando versión multiprocessing (app_multiprocessing.py)...\")\n",
    "start = time.time()\n",
    "subprocess.run([\"python\", \"app_multiprocessing.py\"], cwd=\"../src\")\n",
    "end = time.time()\n",
    "multiprocessing_time = round(end - start, 2)\n",
    "print(f\"\\nTiempo total de ejecución (Multiprocessing): {multiprocessing_time} segundos\")"
   ]
  },
  {
   "cell_type": "markdown",
   "id": "8706040c",
   "metadata": {},
   "source": [
    "## Versión asíncrona (Asyncio)\n",
    "\n",
    "En esta versión se utiliza el modelo de concurrencia asíncrono proporcionado por `asyncio`. Se crean tareas (`coroutines`) para ejecutar las combinaciones de parámetros sin bloquear el hilo principal. Aunque esta técnica es eficiente para operaciones I/O, su impacto en cálculos intensivos en CPU es limitado, ya que no evita el GIL. Aún así mejora significativamente los tiempos."
   ]
  },
  {
   "cell_type": "code",
   "execution_count": 4,
   "id": "a881f273",
   "metadata": {},
   "outputs": [
    {
     "name": "stdout",
     "output_type": "stream",
     "text": [
      "Ejecutando versión asyncio (app_asyncio.py)...\n",
      "\n",
      "Tiempo total de ejecución (Asyncio): 427.3 segundos\n"
     ]
    }
   ],
   "source": [
    "print(\"Ejecutando versión asyncio (app_asyncio.py)...\")\n",
    "start = time.time()\n",
    "subprocess.run([\"python\", \"app_asyncio.py\"], cwd=\"../src\")\n",
    "end = time.time()\n",
    "asyncio_time = round(end - start, 2)\n",
    "print(f\"\\nTiempo total de ejecución (Asyncio): {asyncio_time} segundos\")"
   ]
  },
  {
   "cell_type": "markdown",
   "id": "d5a7eecc",
   "metadata": {},
   "source": [
    "## Versión combinada: Multiproceso + Asyncio\n",
    "\n",
    "Esta versión combina la ejecución en paralelo de procesos (uno por función objetivo) mediante `multiprocessing`, con la concurrencia asíncrona (`asyncio`) para ejecutar múltiples combinaciones de parámetros dentro de cada proceso. \n",
    "\n",
    "Gracias a esta combinación, se aprovechan los núcleos del procesador (evitando el GIL mediante procesos independientes) y además se ejecutan las tareas concurrentes sin bloquear."
   ]
  },
  {
   "cell_type": "code",
   "execution_count": 7,
   "id": "2576c34e",
   "metadata": {},
   "outputs": [
    {
     "name": "stdout",
     "output_type": "stream",
     "text": [
      "Ejecutando versión combinada Multi + Asyncio (app_multi_asyncio.py)...\n",
      "\n",
      "Tiempo total de ejecución (Multi + Asyncio): 251.91 segundos\n"
     ]
    }
   ],
   "source": [
    "print(\"Ejecutando versión combinada Multi + Asyncio (app_multi_asyncio.py)...\")\n",
    "start = time.time()\n",
    "subprocess.run([\"python\", \"app_multi_async.py\"], cwd=\"../src\")\n",
    "end = time.time()\n",
    "multi_asyncio_time = round(end - start, 2)\n",
    "print(f\"\\nTiempo total de ejecución (Multi + Asyncio): {multi_asyncio_time} segundos\")"
   ]
  },
  {
   "cell_type": "markdown",
   "id": "2285b5d3",
   "metadata": {},
   "source": [
    "## Análisis comparativo de tiempos\n",
    "\n",
    "A continuación se muestran los tiempos de ejecución registrados por cada una de las versiones del algoritmo (secuencial, hilos, procesos, asincronía, y combinación de procesos + asincronía). El objetivo es comparar el rendimiento de cada enfoque en función del tiempo total requerido para completar todas las combinaciones de parámetros en cada función objetivo."
   ]
  },
  {
   "cell_type": "code",
   "execution_count": 8,
   "id": "18318fbd",
   "metadata": {},
   "outputs": [
    {
     "data": {
      "image/png": "[encoded data removed]",
      "text/plain": [
       "<Figure size 1000x600 with 1 Axes>"
      ]
     },
     "metadata": {},
     "output_type": "display_data"
    },
    {
     "data": {
      "text/html": [
       "<div>\n",
       "<style scoped>\n",
       "    .dataframe tbody tr th:only-of-type {\n",
       "        vertical-align: middle;\n",
       "    }\n",
       "\n",
       "    .dataframe tbody tr th {\n",
       "        vertical-align: top;\n",
       "    }\n",
       "\n",
       "    .dataframe thead th {\n",
       "        text-align: right;\n",
       "    }\n",
       "</style>\n",
       "<table border=\"1\" class=\"dataframe\">\n",
       "  <thead>\n",
       "    <tr style=\"text-align: right;\">\n",
       "      <th></th>\n",
       "      <th>Versión</th>\n",
       "      <th>Tiempo total (s)</th>\n",
       "    </tr>\n",
       "  </thead>\n",
       "  <tbody>\n",
       "    <tr>\n",
       "      <th>4</th>\n",
       "      <td>Multi + Async</td>\n",
       "      <td>251.91</td>\n",
       "    </tr>\n",
       "    <tr>\n",
       "      <th>2</th>\n",
       "      <td>Multiprocessing</td>\n",
       "      <td>277.61</td>\n",
       "    </tr>\n",
       "    <tr>\n",
       "      <th>3</th>\n",
       "      <td>Asyncio</td>\n",
       "      <td>427.30</td>\n",
       "    </tr>\n",
       "    <tr>\n",
       "      <th>0</th>\n",
       "      <td>Secuencial</td>\n",
       "      <td>438.73</td>\n",
       "    </tr>\n",
       "    <tr>\n",
       "      <th>1</th>\n",
       "      <td>Threads</td>\n",
       "      <td>539.63</td>\n",
       "    </tr>\n",
       "  </tbody>\n",
       "</table>\n",
       "</div>"
      ],
      "text/plain": [
       "           Versión  Tiempo total (s)\n",
       "4    Multi + Async            251.91\n",
       "2  Multiprocessing            277.61\n",
       "3          Asyncio            427.30\n",
       "0       Secuencial            438.73\n",
       "1          Threads            539.63"
      ]
     },
     "execution_count": 8,
     "metadata": {},
     "output_type": "execute_result"
    }
   ],
   "source": [
    "import pandas as pd\n",
    "import matplotlib.pyplot as plt\n",
    "import seaborn as sns\n",
    "\n",
    "# Crear diccionario con los tiempos de ejecución\n",
    "execution_times = {\n",
    "    \"Secuencial\": sequential_time,\n",
    "    \"Threads\": threading_time,\n",
    "    \"Multiprocessing\": multiprocessing_time,\n",
    "    \"Asyncio\": asyncio_time,\n",
    "    \"Multi + Async\": multi_asyncio_time\n",
    "}\n",
    "\n",
    "# Convertir a DataFrame\n",
    "df_times = pd.DataFrame(list(execution_times.items()), columns=[\"Versión\", \"Tiempo total (s)\"])\n",
    "df_times = df_times.sort_values(\"Tiempo total (s)\")\n",
    "\n",
    "# Graficar\n",
    "sns.set(style=\"whitegrid\")\n",
    "plt.figure(figsize=(10, 6))\n",
    "sns.barplot(data=df_times, x=\"Versión\", y=\"Tiempo total (s)\", palette=\"muted\")\n",
    "plt.title(\"Comparativa de tiempos de ejecución entre versiones del algoritmo PSO\")\n",
    "plt.ylabel(\"Tiempo total (segundos)\")\n",
    "plt.xlabel(\"Versión del algoritmo\")\n",
    "plt.xticks(rotation=45)\n",
    "plt.tight_layout()\n",
    "plt.show()\n",
    "\n",
    "df_times\n"
   ]
  },
  {
   "cell_type": "markdown",
   "id": "81948b66",
   "metadata": {},
   "source": [
    "## Cálculo del Speedup\n",
    "\n",
    "El Speedup (aceleración) es una medida del rendimiento de un algoritmo paralelo respecto a su versión secuencial. Se calcula como la relación entre el tiempo que tarda la versión secuencial (`ts`) y el tiempo de una versión paralela (`tp`) para realizar el mismo trabajo:\n",
    "\n",
    "**S = ts / tp**\n",
    "\n",
    "- S = 1\tLa versión paralela tarda lo mismo que la secuencial (no mejora).\n",
    "- S < 1\tLa versión paralela es más lenta (mal diseño, sobrecarga o no adecuada para paralelismo).\n",
    "- S > 1\tLa versión paralela es más rápida (lo ideal).\n",
    "\n",
    "A continuación se muestra el Speedup obtenido por cada versión respecto a la versión secuencial:"
   ]
  },
  {
   "cell_type": "code",
   "execution_count": null,
   "id": "f2b3a7e8",
   "metadata": {},
   "outputs": [],
   "source": [
    "speedups = {\n",
    "    \"Threads\": round(sequential_time / threading_time, 2),\n",
    "    \"Multiprocessing\": round(sequential_time / multiprocessing_time, 2),\n",
    "    \"Asyncio\": round(sequential_time / asyncio_time, 2),\n",
    "    \"Multi + Async\": round(sequential_time / multi_asyncio_time, 2)\n",
    "}\n",
    "\n",
    "df_speedup = pd.DataFrame(list(speedups.items()), columns=[\"Versión\", \"Speedup\"])\n",
    "df_speedup = df_speedup.sort_values(\"Speedup\", ascending=False)\n",
    "\n",
    "sns.set(style=\"whitegrid\")\n",
    "plt.figure(figsize=(10, 6))\n",
    "sns.barplot(data=df_speedup, x=\"Versión\", y=\"Speedup\", palette=\"crest\")\n",
    "plt.title(\"Speedup respecto a la versión secuencial\")\n",
    "plt.ylabel(\"Aceleración (S = ts / tp)\")\n",
    "plt.xlabel(\"Versión paralela\")\n",
    "plt.tight_layout()\n",
    "plt.show()\n",
    "\n",
    "df_speedup"
   ]
  },
  {
   "cell_type": "markdown",
   "id": "599265c8",
   "metadata": {},
   "source": [
    "## Conclusiones finales\n",
    "\n",
    "Después de comparar distintas variantes de implementación del algoritmo PSO, los resultados obtenidos muestran diferencias claras en cuanto a eficiencia de ejecución:\n",
    "\n",
    "- La versión más rápida fue **Multi + Asyncio**, con un tiempo total de 251.91 segundos, seguida por **Multiprocessing** (277.61 s).\n",
    "- La versión **Asyncio** también muestra una mejora frente a la secuencial (427.30 s vs. 438.73 s), aunque no tan significativa como las anteriores.\n",
    "- La versión **Threading** fue la más lenta de todas, con un tiempo total de 539.63 segundos, lo cual es lógico por las limitaciones del Global Interpreter Lock (GIL) en Python.\n",
    "\n",
    "Durante el diseño, opté por paralelizar las **combinaciones de parámetros** dentro de cada función objetivo, en lugar de ejecutar en paralelo las diferentes funciones (`Sphere`, `Rastrigin`, `Ackley`). Lo hice para poder aprovechar al máximo el paralelismo disponible, ya que la mayor carga computacional se concentra en la evaluación repetida de configuraciones.\n",
    "\n",
    "Finalmente, el enfoque combinado de process + async fue la que demostró la mayor eficiencia para este problema, al aprovechar los núcleos del procesador con `multiprocessing` y, dentro de cada proceso, coordinar múltiples ejecuciones concurrentes con `asyncio`.\n",
    "\n",
    "Este análisis de tiempos demuestra que, dependiendo del tipo de problema, elegir bien cómo paralelizar puede marcar una gran diferencia. En este caso, al ser un problema muy intensivo en CPU, las soluciones que usaban procesos han sido las más efectivas."
   ]
  }
 ],
 "metadata": {
  "kernelspec": {
   "display_name": "Python 3",
   "language": "python",
   "name": "python3"
  },
  "language_info": {
   "codemirror_mode": {
    "name": "ipython",
    "version": 3
   },
   "file_extension": ".py",
   "mimetype": "text/x-python",
   "name": "python",
   "nbconvert_exporter": "python",
   "pygments_lexer": "ipython3",
   "version": "3.11.9"
  }
 },
 "nbformat": 4,
 "nbformat_minor": 5
}
